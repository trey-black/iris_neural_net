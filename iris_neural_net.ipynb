{
 "cells": [
  {
   "cell_type": "code",
   "execution_count": 59,
   "metadata": {},
   "outputs": [],
   "source": [
    "import pandas as pd\n",
    "\n",
    "import torch\n",
    "import torch.nn as nn\n",
    "import torch.nn.functional as F\n",
    "from torch.nn import CrossEntropyLoss\n",
    "\n",
    "from sklearn.preprocessing import StandardScaler, LabelEncoder\n",
    "from sklearn.model_selection import train_test_split"
   ]
  },
  {
   "cell_type": "code",
   "execution_count": 58,
   "metadata": {},
   "outputs": [],
   "source": [
    "### DATA PROCESSING\n",
    "\n",
    "# np_array = np.array(array)\n",
    "# np_tensor = torch.from_numpy(np_array)\n",
    "\n",
    "data_pd = pd.read_csv('~/Documents/Data Science/programs/iris_neural_net/iris_data.csv')\n",
    "\n",
    "x = data_pd.drop(['species'], axis=1)\n",
    "y = data_pd.species\n",
    "\n",
    "encoder = LabelEncoder()\n",
    "y = encoder.fit_transform(y)\n",
    "\n",
    "scaler = StandardScaler()\n",
    "x = scaler.fit_transform(x)\n",
    "\n",
    "x_train, x_test, y_train, y_test = train_test_split(x, y, test_size = 0.25, random_state = 888)\n",
    "\n",
    "input = torch.from_numpy(x_train).float()\n",
    "labels = F.one_hot(torch.from_numpy(y_train))\n",
    "\n",
    "# print(labels)"
   ]
  },
  {
   "cell_type": "code",
   "execution_count": 60,
   "metadata": {},
   "outputs": [
    {
     "name": "stdout",
     "output_type": "stream",
     "text": [
      "tensor(1.1754, dtype=torch.float64, grad_fn=<DivBackward1>)\n"
     ]
    }
   ],
   "source": [
    "### FORWARD PASS\n",
    "\n",
    "model = nn.Sequential(\n",
    "    nn.Linear(4, 6),\n",
    "    nn.Linear(6, 3),\n",
    "    nn.Softmax(dim=-1)\n",
    ")\n",
    "\n",
    "scores = model(input)\n",
    "# _, preds = torch.max(output, dim=1)\n",
    "# preds = F.one_hot(preds, num_classes=3)\n",
    "\n",
    "criterion = CrossEntropyLoss()\n",
    "loss = criterion(scores.double(), labels.double())\n",
    "\n",
    "print(loss)"
   ]
  }
 ],
 "metadata": {
  "kernelspec": {
   "display_name": "Python 3",
   "language": "python",
   "name": "python3"
  },
  "language_info": {
   "codemirror_mode": {
    "name": "ipython",
    "version": 3
   },
   "file_extension": ".py",
   "mimetype": "text/x-python",
   "name": "python",
   "nbconvert_exporter": "python",
   "pygments_lexer": "ipython3",
   "version": "3.11.7"
  }
 },
 "nbformat": 4,
 "nbformat_minor": 2
}
